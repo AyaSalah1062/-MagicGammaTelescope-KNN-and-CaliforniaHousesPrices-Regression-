{
  "nbformat": 4,
  "nbformat_minor": 0,
  "metadata": {
    "colab": {
      "provenance": []
    },
    "kernelspec": {
      "name": "python3",
      "display_name": "Python 3"
    },
    "language_info": {
      "name": "python"
    }
  },
  "cells": [
    {
      "cell_type": "markdown",
      "source": [
        "# **Data manipulation libraries:**"
      ],
      "metadata": {
        "id": "8gL7yNzoTcZy"
      }
    },
    {
      "cell_type": "code",
      "source": [
        "import numpy as np\n",
        "import pandas as pd"
      ],
      "metadata": {
        "id": "6UTwKeg1TpK6"
      },
      "execution_count": 225,
      "outputs": []
    },
    {
      "cell_type": "markdown",
      "source": [
        "# **Visualization libraries:**\n"
      ],
      "metadata": {
        "id": "PIBLNb_-TqMW"
      }
    },
    {
      "cell_type": "code",
      "source": [
        "import matplotlib.pyplot as plt\n",
        "import plotly.express as px\n",
        "import matplotlib.image as mpimg\n",
        "%matplotlib inline\n",
        "import tabulate\n"
      ],
      "metadata": {
        "id": "HKvFy7tgU8sl"
      },
      "execution_count": 226,
      "outputs": []
    },
    {
      "cell_type": "markdown",
      "source": [
        "# **ML libraries:**\n"
      ],
      "metadata": {
        "id": "vovdjTQiVBp0"
      }
    },
    {
      "cell_type": "code",
      "source": [
        "from sklearn.neighbors import KNeighborsClassifier\n",
        "from sklearn.metrics import accuracy_score, precision_score, recall_score, f1_score, confusion_matrix\n",
        "from sklearn.model_selection import train_test_split        #data splitting\n"
      ],
      "metadata": {
        "id": "6-teqTSbVTJ-"
      },
      "execution_count": 227,
      "outputs": []
    },
    {
      "cell_type": "markdown",
      "source": [
        "#**Load Dataset:**"
      ],
      "metadata": {
        "id": "QvSarTz2VYY8"
      }
    },
    {
      "cell_type": "code",
      "source": [
        "#Read the housing.csv dataset into an object named df\n",
        "# df = pd.read_csv('magic04.data')\n",
        "column_names = ['fLength', 'fWidth', 'fSize', 'fConc', 'fConc1', 'fAsym', 'fM3Long', 'fM3Trans', 'fAlpha', 'fDist', 'class']\n",
        "df = pd.read_csv('magic04.data', names=column_names)"
      ],
      "metadata": {
        "id": "7qNAu907WJal"
      },
      "execution_count": 228,
      "outputs": []
    },
    {
      "cell_type": "code",
      "source": [
        "# Shows the number of rows and columns in the data\n",
        "df.shape"
      ],
      "metadata": {
        "colab": {
          "base_uri": "https://localhost:8080/"
        },
        "id": "ORs6HNB2W1vP",
        "outputId": "721363a9-9841-416f-febb-052f1605d742"
      },
      "execution_count": 229,
      "outputs": [
        {
          "output_type": "execute_result",
          "data": {
            "text/plain": [
              "(19020, 11)"
            ]
          },
          "metadata": {},
          "execution_count": 229
        }
      ]
    },
    {
      "cell_type": "code",
      "source": [
        "#show the first five rows of the data set.\n",
        "df.head()"
      ],
      "metadata": {
        "colab": {
          "base_uri": "https://localhost:8080/",
          "height": 206
        },
        "id": "FqjlSpqqW4ys",
        "outputId": "e866c154-f2c3-4189-e01b-c9cf3d0cd29f"
      },
      "execution_count": 230,
      "outputs": [
        {
          "output_type": "execute_result",
          "data": {
            "text/plain": [
              "    fLength    fWidth   fSize   fConc  fConc1     fAsym  fM3Long  fM3Trans  \\\n",
              "0   28.7967   16.0021  2.6449  0.3918  0.1982   27.7004  22.0110   -8.2027   \n",
              "1   31.6036   11.7235  2.5185  0.5303  0.3773   26.2722  23.8238   -9.9574   \n",
              "2  162.0520  136.0310  4.0612  0.0374  0.0187  116.7410 -64.8580  -45.2160   \n",
              "3   23.8172    9.5728  2.3385  0.6147  0.3922   27.2107  -6.4633   -7.1513   \n",
              "4   75.1362   30.9205  3.1611  0.3168  0.1832   -5.5277  28.5525   21.8393   \n",
              "\n",
              "    fAlpha     fDist class  \n",
              "0  40.0920   81.8828     g  \n",
              "1   6.3609  205.2610     g  \n",
              "2  76.9600  256.7880     g  \n",
              "3  10.4490  116.7370     g  \n",
              "4   4.6480  356.4620     g  "
            ],
            "text/html": [
              "\n",
              "  <div id=\"df-f4cd119e-d1e8-4101-9e85-7896e1d69de7\" class=\"colab-df-container\">\n",
              "    <div>\n",
              "<style scoped>\n",
              "    .dataframe tbody tr th:only-of-type {\n",
              "        vertical-align: middle;\n",
              "    }\n",
              "\n",
              "    .dataframe tbody tr th {\n",
              "        vertical-align: top;\n",
              "    }\n",
              "\n",
              "    .dataframe thead th {\n",
              "        text-align: right;\n",
              "    }\n",
              "</style>\n",
              "<table border=\"1\" class=\"dataframe\">\n",
              "  <thead>\n",
              "    <tr style=\"text-align: right;\">\n",
              "      <th></th>\n",
              "      <th>fLength</th>\n",
              "      <th>fWidth</th>\n",
              "      <th>fSize</th>\n",
              "      <th>fConc</th>\n",
              "      <th>fConc1</th>\n",
              "      <th>fAsym</th>\n",
              "      <th>fM3Long</th>\n",
              "      <th>fM3Trans</th>\n",
              "      <th>fAlpha</th>\n",
              "      <th>fDist</th>\n",
              "      <th>class</th>\n",
              "    </tr>\n",
              "  </thead>\n",
              "  <tbody>\n",
              "    <tr>\n",
              "      <th>0</th>\n",
              "      <td>28.7967</td>\n",
              "      <td>16.0021</td>\n",
              "      <td>2.6449</td>\n",
              "      <td>0.3918</td>\n",
              "      <td>0.1982</td>\n",
              "      <td>27.7004</td>\n",
              "      <td>22.0110</td>\n",
              "      <td>-8.2027</td>\n",
              "      <td>40.0920</td>\n",
              "      <td>81.8828</td>\n",
              "      <td>g</td>\n",
              "    </tr>\n",
              "    <tr>\n",
              "      <th>1</th>\n",
              "      <td>31.6036</td>\n",
              "      <td>11.7235</td>\n",
              "      <td>2.5185</td>\n",
              "      <td>0.5303</td>\n",
              "      <td>0.3773</td>\n",
              "      <td>26.2722</td>\n",
              "      <td>23.8238</td>\n",
              "      <td>-9.9574</td>\n",
              "      <td>6.3609</td>\n",
              "      <td>205.2610</td>\n",
              "      <td>g</td>\n",
              "    </tr>\n",
              "    <tr>\n",
              "      <th>2</th>\n",
              "      <td>162.0520</td>\n",
              "      <td>136.0310</td>\n",
              "      <td>4.0612</td>\n",
              "      <td>0.0374</td>\n",
              "      <td>0.0187</td>\n",
              "      <td>116.7410</td>\n",
              "      <td>-64.8580</td>\n",
              "      <td>-45.2160</td>\n",
              "      <td>76.9600</td>\n",
              "      <td>256.7880</td>\n",
              "      <td>g</td>\n",
              "    </tr>\n",
              "    <tr>\n",
              "      <th>3</th>\n",
              "      <td>23.8172</td>\n",
              "      <td>9.5728</td>\n",
              "      <td>2.3385</td>\n",
              "      <td>0.6147</td>\n",
              "      <td>0.3922</td>\n",
              "      <td>27.2107</td>\n",
              "      <td>-6.4633</td>\n",
              "      <td>-7.1513</td>\n",
              "      <td>10.4490</td>\n",
              "      <td>116.7370</td>\n",
              "      <td>g</td>\n",
              "    </tr>\n",
              "    <tr>\n",
              "      <th>4</th>\n",
              "      <td>75.1362</td>\n",
              "      <td>30.9205</td>\n",
              "      <td>3.1611</td>\n",
              "      <td>0.3168</td>\n",
              "      <td>0.1832</td>\n",
              "      <td>-5.5277</td>\n",
              "      <td>28.5525</td>\n",
              "      <td>21.8393</td>\n",
              "      <td>4.6480</td>\n",
              "      <td>356.4620</td>\n",
              "      <td>g</td>\n",
              "    </tr>\n",
              "  </tbody>\n",
              "</table>\n",
              "</div>\n",
              "    <div class=\"colab-df-buttons\">\n",
              "\n",
              "  <div class=\"colab-df-container\">\n",
              "    <button class=\"colab-df-convert\" onclick=\"convertToInteractive('df-f4cd119e-d1e8-4101-9e85-7896e1d69de7')\"\n",
              "            title=\"Convert this dataframe to an interactive table.\"\n",
              "            style=\"display:none;\">\n",
              "\n",
              "  <svg xmlns=\"http://www.w3.org/2000/svg\" height=\"24px\" viewBox=\"0 -960 960 960\">\n",
              "    <path d=\"M120-120v-720h720v720H120Zm60-500h600v-160H180v160Zm220 220h160v-160H400v160Zm0 220h160v-160H400v160ZM180-400h160v-160H180v160Zm440 0h160v-160H620v160ZM180-180h160v-160H180v160Zm440 0h160v-160H620v160Z\"/>\n",
              "  </svg>\n",
              "    </button>\n",
              "\n",
              "  <style>\n",
              "    .colab-df-container {\n",
              "      display:flex;\n",
              "      gap: 12px;\n",
              "    }\n",
              "\n",
              "    .colab-df-convert {\n",
              "      background-color: #E8F0FE;\n",
              "      border: none;\n",
              "      border-radius: 50%;\n",
              "      cursor: pointer;\n",
              "      display: none;\n",
              "      fill: #1967D2;\n",
              "      height: 32px;\n",
              "      padding: 0 0 0 0;\n",
              "      width: 32px;\n",
              "    }\n",
              "\n",
              "    .colab-df-convert:hover {\n",
              "      background-color: #E2EBFA;\n",
              "      box-shadow: 0px 1px 2px rgba(60, 64, 67, 0.3), 0px 1px 3px 1px rgba(60, 64, 67, 0.15);\n",
              "      fill: #174EA6;\n",
              "    }\n",
              "\n",
              "    .colab-df-buttons div {\n",
              "      margin-bottom: 4px;\n",
              "    }\n",
              "\n",
              "    [theme=dark] .colab-df-convert {\n",
              "      background-color: #3B4455;\n",
              "      fill: #D2E3FC;\n",
              "    }\n",
              "\n",
              "    [theme=dark] .colab-df-convert:hover {\n",
              "      background-color: #434B5C;\n",
              "      box-shadow: 0px 1px 3px 1px rgba(0, 0, 0, 0.15);\n",
              "      filter: drop-shadow(0px 1px 2px rgba(0, 0, 0, 0.3));\n",
              "      fill: #FFFFFF;\n",
              "    }\n",
              "  </style>\n",
              "\n",
              "    <script>\n",
              "      const buttonEl =\n",
              "        document.querySelector('#df-f4cd119e-d1e8-4101-9e85-7896e1d69de7 button.colab-df-convert');\n",
              "      buttonEl.style.display =\n",
              "        google.colab.kernel.accessAllowed ? 'block' : 'none';\n",
              "\n",
              "      async function convertToInteractive(key) {\n",
              "        const element = document.querySelector('#df-f4cd119e-d1e8-4101-9e85-7896e1d69de7');\n",
              "        const dataTable =\n",
              "          await google.colab.kernel.invokeFunction('convertToInteractive',\n",
              "                                                    [key], {});\n",
              "        if (!dataTable) return;\n",
              "\n",
              "        const docLinkHtml = 'Like what you see? Visit the ' +\n",
              "          '<a target=\"_blank\" href=https://colab.research.google.com/notebooks/data_table.ipynb>data table notebook</a>'\n",
              "          + ' to learn more about interactive tables.';\n",
              "        element.innerHTML = '';\n",
              "        dataTable['output_type'] = 'display_data';\n",
              "        await google.colab.output.renderOutput(dataTable, element);\n",
              "        const docLink = document.createElement('div');\n",
              "        docLink.innerHTML = docLinkHtml;\n",
              "        element.appendChild(docLink);\n",
              "      }\n",
              "    </script>\n",
              "  </div>\n",
              "\n",
              "\n",
              "<div id=\"df-b70c93d5-e509-4daa-b117-acb020c45877\">\n",
              "  <button class=\"colab-df-quickchart\" onclick=\"quickchart('df-b70c93d5-e509-4daa-b117-acb020c45877')\"\n",
              "            title=\"Suggest charts\"\n",
              "            style=\"display:none;\">\n",
              "\n",
              "<svg xmlns=\"http://www.w3.org/2000/svg\" height=\"24px\"viewBox=\"0 0 24 24\"\n",
              "     width=\"24px\">\n",
              "    <g>\n",
              "        <path d=\"M19 3H5c-1.1 0-2 .9-2 2v14c0 1.1.9 2 2 2h14c1.1 0 2-.9 2-2V5c0-1.1-.9-2-2-2zM9 17H7v-7h2v7zm4 0h-2V7h2v10zm4 0h-2v-4h2v4z\"/>\n",
              "    </g>\n",
              "</svg>\n",
              "  </button>\n",
              "\n",
              "<style>\n",
              "  .colab-df-quickchart {\n",
              "      --bg-color: #E8F0FE;\n",
              "      --fill-color: #1967D2;\n",
              "      --hover-bg-color: #E2EBFA;\n",
              "      --hover-fill-color: #174EA6;\n",
              "      --disabled-fill-color: #AAA;\n",
              "      --disabled-bg-color: #DDD;\n",
              "  }\n",
              "\n",
              "  [theme=dark] .colab-df-quickchart {\n",
              "      --bg-color: #3B4455;\n",
              "      --fill-color: #D2E3FC;\n",
              "      --hover-bg-color: #434B5C;\n",
              "      --hover-fill-color: #FFFFFF;\n",
              "      --disabled-bg-color: #3B4455;\n",
              "      --disabled-fill-color: #666;\n",
              "  }\n",
              "\n",
              "  .colab-df-quickchart {\n",
              "    background-color: var(--bg-color);\n",
              "    border: none;\n",
              "    border-radius: 50%;\n",
              "    cursor: pointer;\n",
              "    display: none;\n",
              "    fill: var(--fill-color);\n",
              "    height: 32px;\n",
              "    padding: 0;\n",
              "    width: 32px;\n",
              "  }\n",
              "\n",
              "  .colab-df-quickchart:hover {\n",
              "    background-color: var(--hover-bg-color);\n",
              "    box-shadow: 0 1px 2px rgba(60, 64, 67, 0.3), 0 1px 3px 1px rgba(60, 64, 67, 0.15);\n",
              "    fill: var(--button-hover-fill-color);\n",
              "  }\n",
              "\n",
              "  .colab-df-quickchart-complete:disabled,\n",
              "  .colab-df-quickchart-complete:disabled:hover {\n",
              "    background-color: var(--disabled-bg-color);\n",
              "    fill: var(--disabled-fill-color);\n",
              "    box-shadow: none;\n",
              "  }\n",
              "\n",
              "  .colab-df-spinner {\n",
              "    border: 2px solid var(--fill-color);\n",
              "    border-color: transparent;\n",
              "    border-bottom-color: var(--fill-color);\n",
              "    animation:\n",
              "      spin 1s steps(1) infinite;\n",
              "  }\n",
              "\n",
              "  @keyframes spin {\n",
              "    0% {\n",
              "      border-color: transparent;\n",
              "      border-bottom-color: var(--fill-color);\n",
              "      border-left-color: var(--fill-color);\n",
              "    }\n",
              "    20% {\n",
              "      border-color: transparent;\n",
              "      border-left-color: var(--fill-color);\n",
              "      border-top-color: var(--fill-color);\n",
              "    }\n",
              "    30% {\n",
              "      border-color: transparent;\n",
              "      border-left-color: var(--fill-color);\n",
              "      border-top-color: var(--fill-color);\n",
              "      border-right-color: var(--fill-color);\n",
              "    }\n",
              "    40% {\n",
              "      border-color: transparent;\n",
              "      border-right-color: var(--fill-color);\n",
              "      border-top-color: var(--fill-color);\n",
              "    }\n",
              "    60% {\n",
              "      border-color: transparent;\n",
              "      border-right-color: var(--fill-color);\n",
              "    }\n",
              "    80% {\n",
              "      border-color: transparent;\n",
              "      border-right-color: var(--fill-color);\n",
              "      border-bottom-color: var(--fill-color);\n",
              "    }\n",
              "    90% {\n",
              "      border-color: transparent;\n",
              "      border-bottom-color: var(--fill-color);\n",
              "    }\n",
              "  }\n",
              "</style>\n",
              "\n",
              "  <script>\n",
              "    async function quickchart(key) {\n",
              "      const quickchartButtonEl =\n",
              "        document.querySelector('#' + key + ' button');\n",
              "      quickchartButtonEl.disabled = true;  // To prevent multiple clicks.\n",
              "      quickchartButtonEl.classList.add('colab-df-spinner');\n",
              "      try {\n",
              "        const charts = await google.colab.kernel.invokeFunction(\n",
              "            'suggestCharts', [key], {});\n",
              "      } catch (error) {\n",
              "        console.error('Error during call to suggestCharts:', error);\n",
              "      }\n",
              "      quickchartButtonEl.classList.remove('colab-df-spinner');\n",
              "      quickchartButtonEl.classList.add('colab-df-quickchart-complete');\n",
              "    }\n",
              "    (() => {\n",
              "      let quickchartButtonEl =\n",
              "        document.querySelector('#df-b70c93d5-e509-4daa-b117-acb020c45877 button');\n",
              "      quickchartButtonEl.style.display =\n",
              "        google.colab.kernel.accessAllowed ? 'block' : 'none';\n",
              "    })();\n",
              "  </script>\n",
              "</div>\n",
              "    </div>\n",
              "  </div>\n"
            ]
          },
          "metadata": {},
          "execution_count": 230
        }
      ]
    },
    {
      "cell_type": "code",
      "source": [
        "#using .info to explore columns index, columns names, non-Null count values and data type in the dataset\n",
        "df.info()"
      ],
      "metadata": {
        "colab": {
          "base_uri": "https://localhost:8080/"
        },
        "id": "8LPdboZmXHb5",
        "outputId": "4353d6b7-f0e2-464b-d3a9-07c9ac86ea58"
      },
      "execution_count": 231,
      "outputs": [
        {
          "output_type": "stream",
          "name": "stdout",
          "text": [
            "<class 'pandas.core.frame.DataFrame'>\n",
            "RangeIndex: 19020 entries, 0 to 19019\n",
            "Data columns (total 11 columns):\n",
            " #   Column    Non-Null Count  Dtype  \n",
            "---  ------    --------------  -----  \n",
            " 0   fLength   19020 non-null  float64\n",
            " 1   fWidth    19020 non-null  float64\n",
            " 2   fSize     19020 non-null  float64\n",
            " 3   fConc     19020 non-null  float64\n",
            " 4   fConc1    19020 non-null  float64\n",
            " 5   fAsym     19020 non-null  float64\n",
            " 6   fM3Long   19020 non-null  float64\n",
            " 7   fM3Trans  19020 non-null  float64\n",
            " 8   fAlpha    19020 non-null  float64\n",
            " 9   fDist     19020 non-null  float64\n",
            " 10  class     19020 non-null  object \n",
            "dtypes: float64(10), object(1)\n",
            "memory usage: 1.6+ MB\n"
          ]
        }
      ]
    },
    {
      "cell_type": "code",
      "source": [
        " # Sum total of the null values (if equal zero so no data missed)\n",
        "df.isnull().sum().sum()\n",
        "# check for duplicate data and removing them\n",
        "duplicates_no = df.duplicated().sum()\n",
        "print(\"No. of duplicated rows = \", duplicates_no)\n",
        "df = df.drop_duplicates()\n",
        "\n",
        "\n"
      ],
      "metadata": {
        "colab": {
          "base_uri": "https://localhost:8080/"
        },
        "id": "YLtVxKf_XSQA",
        "outputId": "a7f4f6d7-7fdb-4eb0-e26b-afb2d433a9ac"
      },
      "execution_count": 232,
      "outputs": [
        {
          "output_type": "stream",
          "name": "stdout",
          "text": [
            "No. of duplicated rows =  115\n"
          ]
        }
      ]
    },
    {
      "cell_type": "code",
      "source": [
        "print(df.shape)\n"
      ],
      "metadata": {
        "colab": {
          "base_uri": "https://localhost:8080/"
        },
        "id": "lQoffA4vprS9",
        "outputId": "0435650e-4cbf-445b-e5e0-cba457306f10"
      },
      "execution_count": 233,
      "outputs": [
        {
          "output_type": "stream",
          "name": "stdout",
          "text": [
            "(18905, 11)\n"
          ]
        }
      ]
    },
    {
      "cell_type": "code",
      "source": [
        "#Using .describe() to see the statistics of our values\n",
        "df.describe()"
      ],
      "metadata": {
        "colab": {
          "base_uri": "https://localhost:8080/",
          "height": 320
        },
        "id": "gMt5VO1MXY2h",
        "outputId": "5aa33ea8-fefa-4236-d947-544fd395b2cd"
      },
      "execution_count": 234,
      "outputs": [
        {
          "output_type": "execute_result",
          "data": {
            "text/plain": [
              "            fLength        fWidth         fSize         fConc        fConc1  \\\n",
              "count  18905.000000  18905.000000  18905.000000  18905.000000  18905.000000   \n",
              "mean      53.161416     22.145872      2.824643      0.380247      0.214560   \n",
              "std       42.259789     18.300664      0.472377      0.182709      0.110384   \n",
              "min        4.283500      0.000000      1.941300      0.013100      0.000300   \n",
              "25%       24.359700     11.874200      2.477100      0.235800      0.128500   \n",
              "50%       37.129500     17.143800      2.740000      0.354000      0.196400   \n",
              "75%       69.975400     24.712400      3.101100      0.503500      0.285000   \n",
              "max      334.177000    256.382000      5.323300      0.893000      0.675200   \n",
              "\n",
              "              fAsym       fM3Long      fM3Trans        fAlpha         fDist  \n",
              "count  18905.000000  18905.000000  18905.000000  18905.000000  18905.000000  \n",
              "mean      -4.177867     10.618826      0.259364     27.551644    193.712554  \n",
              "std       59.010059     50.900687     20.775268     26.083055     74.685712  \n",
              "min     -457.916100   -331.780000   -205.894700      0.000000      1.282600  \n",
              "25%      -20.479100    -12.769300    -10.835800      5.516400    142.269000  \n",
              "50%        4.062900     15.338000      0.750000     17.533000    191.832000  \n",
              "75%       24.133500     35.869400     10.948900     45.704000    240.409000  \n",
              "max      575.240700    238.321000    179.851000     90.000000    495.561000  "
            ],
            "text/html": [
              "\n",
              "  <div id=\"df-36ec28da-ea92-438b-956d-229d8993a5e0\" class=\"colab-df-container\">\n",
              "    <div>\n",
              "<style scoped>\n",
              "    .dataframe tbody tr th:only-of-type {\n",
              "        vertical-align: middle;\n",
              "    }\n",
              "\n",
              "    .dataframe tbody tr th {\n",
              "        vertical-align: top;\n",
              "    }\n",
              "\n",
              "    .dataframe thead th {\n",
              "        text-align: right;\n",
              "    }\n",
              "</style>\n",
              "<table border=\"1\" class=\"dataframe\">\n",
              "  <thead>\n",
              "    <tr style=\"text-align: right;\">\n",
              "      <th></th>\n",
              "      <th>fLength</th>\n",
              "      <th>fWidth</th>\n",
              "      <th>fSize</th>\n",
              "      <th>fConc</th>\n",
              "      <th>fConc1</th>\n",
              "      <th>fAsym</th>\n",
              "      <th>fM3Long</th>\n",
              "      <th>fM3Trans</th>\n",
              "      <th>fAlpha</th>\n",
              "      <th>fDist</th>\n",
              "    </tr>\n",
              "  </thead>\n",
              "  <tbody>\n",
              "    <tr>\n",
              "      <th>count</th>\n",
              "      <td>18905.000000</td>\n",
              "      <td>18905.000000</td>\n",
              "      <td>18905.000000</td>\n",
              "      <td>18905.000000</td>\n",
              "      <td>18905.000000</td>\n",
              "      <td>18905.000000</td>\n",
              "      <td>18905.000000</td>\n",
              "      <td>18905.000000</td>\n",
              "      <td>18905.000000</td>\n",
              "      <td>18905.000000</td>\n",
              "    </tr>\n",
              "    <tr>\n",
              "      <th>mean</th>\n",
              "      <td>53.161416</td>\n",
              "      <td>22.145872</td>\n",
              "      <td>2.824643</td>\n",
              "      <td>0.380247</td>\n",
              "      <td>0.214560</td>\n",
              "      <td>-4.177867</td>\n",
              "      <td>10.618826</td>\n",
              "      <td>0.259364</td>\n",
              "      <td>27.551644</td>\n",
              "      <td>193.712554</td>\n",
              "    </tr>\n",
              "    <tr>\n",
              "      <th>std</th>\n",
              "      <td>42.259789</td>\n",
              "      <td>18.300664</td>\n",
              "      <td>0.472377</td>\n",
              "      <td>0.182709</td>\n",
              "      <td>0.110384</td>\n",
              "      <td>59.010059</td>\n",
              "      <td>50.900687</td>\n",
              "      <td>20.775268</td>\n",
              "      <td>26.083055</td>\n",
              "      <td>74.685712</td>\n",
              "    </tr>\n",
              "    <tr>\n",
              "      <th>min</th>\n",
              "      <td>4.283500</td>\n",
              "      <td>0.000000</td>\n",
              "      <td>1.941300</td>\n",
              "      <td>0.013100</td>\n",
              "      <td>0.000300</td>\n",
              "      <td>-457.916100</td>\n",
              "      <td>-331.780000</td>\n",
              "      <td>-205.894700</td>\n",
              "      <td>0.000000</td>\n",
              "      <td>1.282600</td>\n",
              "    </tr>\n",
              "    <tr>\n",
              "      <th>25%</th>\n",
              "      <td>24.359700</td>\n",
              "      <td>11.874200</td>\n",
              "      <td>2.477100</td>\n",
              "      <td>0.235800</td>\n",
              "      <td>0.128500</td>\n",
              "      <td>-20.479100</td>\n",
              "      <td>-12.769300</td>\n",
              "      <td>-10.835800</td>\n",
              "      <td>5.516400</td>\n",
              "      <td>142.269000</td>\n",
              "    </tr>\n",
              "    <tr>\n",
              "      <th>50%</th>\n",
              "      <td>37.129500</td>\n",
              "      <td>17.143800</td>\n",
              "      <td>2.740000</td>\n",
              "      <td>0.354000</td>\n",
              "      <td>0.196400</td>\n",
              "      <td>4.062900</td>\n",
              "      <td>15.338000</td>\n",
              "      <td>0.750000</td>\n",
              "      <td>17.533000</td>\n",
              "      <td>191.832000</td>\n",
              "    </tr>\n",
              "    <tr>\n",
              "      <th>75%</th>\n",
              "      <td>69.975400</td>\n",
              "      <td>24.712400</td>\n",
              "      <td>3.101100</td>\n",
              "      <td>0.503500</td>\n",
              "      <td>0.285000</td>\n",
              "      <td>24.133500</td>\n",
              "      <td>35.869400</td>\n",
              "      <td>10.948900</td>\n",
              "      <td>45.704000</td>\n",
              "      <td>240.409000</td>\n",
              "    </tr>\n",
              "    <tr>\n",
              "      <th>max</th>\n",
              "      <td>334.177000</td>\n",
              "      <td>256.382000</td>\n",
              "      <td>5.323300</td>\n",
              "      <td>0.893000</td>\n",
              "      <td>0.675200</td>\n",
              "      <td>575.240700</td>\n",
              "      <td>238.321000</td>\n",
              "      <td>179.851000</td>\n",
              "      <td>90.000000</td>\n",
              "      <td>495.561000</td>\n",
              "    </tr>\n",
              "  </tbody>\n",
              "</table>\n",
              "</div>\n",
              "    <div class=\"colab-df-buttons\">\n",
              "\n",
              "  <div class=\"colab-df-container\">\n",
              "    <button class=\"colab-df-convert\" onclick=\"convertToInteractive('df-36ec28da-ea92-438b-956d-229d8993a5e0')\"\n",
              "            title=\"Convert this dataframe to an interactive table.\"\n",
              "            style=\"display:none;\">\n",
              "\n",
              "  <svg xmlns=\"http://www.w3.org/2000/svg\" height=\"24px\" viewBox=\"0 -960 960 960\">\n",
              "    <path d=\"M120-120v-720h720v720H120Zm60-500h600v-160H180v160Zm220 220h160v-160H400v160Zm0 220h160v-160H400v160ZM180-400h160v-160H180v160Zm440 0h160v-160H620v160ZM180-180h160v-160H180v160Zm440 0h160v-160H620v160Z\"/>\n",
              "  </svg>\n",
              "    </button>\n",
              "\n",
              "  <style>\n",
              "    .colab-df-container {\n",
              "      display:flex;\n",
              "      gap: 12px;\n",
              "    }\n",
              "\n",
              "    .colab-df-convert {\n",
              "      background-color: #E8F0FE;\n",
              "      border: none;\n",
              "      border-radius: 50%;\n",
              "      cursor: pointer;\n",
              "      display: none;\n",
              "      fill: #1967D2;\n",
              "      height: 32px;\n",
              "      padding: 0 0 0 0;\n",
              "      width: 32px;\n",
              "    }\n",
              "\n",
              "    .colab-df-convert:hover {\n",
              "      background-color: #E2EBFA;\n",
              "      box-shadow: 0px 1px 2px rgba(60, 64, 67, 0.3), 0px 1px 3px 1px rgba(60, 64, 67, 0.15);\n",
              "      fill: #174EA6;\n",
              "    }\n",
              "\n",
              "    .colab-df-buttons div {\n",
              "      margin-bottom: 4px;\n",
              "    }\n",
              "\n",
              "    [theme=dark] .colab-df-convert {\n",
              "      background-color: #3B4455;\n",
              "      fill: #D2E3FC;\n",
              "    }\n",
              "\n",
              "    [theme=dark] .colab-df-convert:hover {\n",
              "      background-color: #434B5C;\n",
              "      box-shadow: 0px 1px 3px 1px rgba(0, 0, 0, 0.15);\n",
              "      filter: drop-shadow(0px 1px 2px rgba(0, 0, 0, 0.3));\n",
              "      fill: #FFFFFF;\n",
              "    }\n",
              "  </style>\n",
              "\n",
              "    <script>\n",
              "      const buttonEl =\n",
              "        document.querySelector('#df-36ec28da-ea92-438b-956d-229d8993a5e0 button.colab-df-convert');\n",
              "      buttonEl.style.display =\n",
              "        google.colab.kernel.accessAllowed ? 'block' : 'none';\n",
              "\n",
              "      async function convertToInteractive(key) {\n",
              "        const element = document.querySelector('#df-36ec28da-ea92-438b-956d-229d8993a5e0');\n",
              "        const dataTable =\n",
              "          await google.colab.kernel.invokeFunction('convertToInteractive',\n",
              "                                                    [key], {});\n",
              "        if (!dataTable) return;\n",
              "\n",
              "        const docLinkHtml = 'Like what you see? Visit the ' +\n",
              "          '<a target=\"_blank\" href=https://colab.research.google.com/notebooks/data_table.ipynb>data table notebook</a>'\n",
              "          + ' to learn more about interactive tables.';\n",
              "        element.innerHTML = '';\n",
              "        dataTable['output_type'] = 'display_data';\n",
              "        await google.colab.output.renderOutput(dataTable, element);\n",
              "        const docLink = document.createElement('div');\n",
              "        docLink.innerHTML = docLinkHtml;\n",
              "        element.appendChild(docLink);\n",
              "      }\n",
              "    </script>\n",
              "  </div>\n",
              "\n",
              "\n",
              "<div id=\"df-61c1934c-1dcb-4c36-96f3-c7a90983ce2a\">\n",
              "  <button class=\"colab-df-quickchart\" onclick=\"quickchart('df-61c1934c-1dcb-4c36-96f3-c7a90983ce2a')\"\n",
              "            title=\"Suggest charts\"\n",
              "            style=\"display:none;\">\n",
              "\n",
              "<svg xmlns=\"http://www.w3.org/2000/svg\" height=\"24px\"viewBox=\"0 0 24 24\"\n",
              "     width=\"24px\">\n",
              "    <g>\n",
              "        <path d=\"M19 3H5c-1.1 0-2 .9-2 2v14c0 1.1.9 2 2 2h14c1.1 0 2-.9 2-2V5c0-1.1-.9-2-2-2zM9 17H7v-7h2v7zm4 0h-2V7h2v10zm4 0h-2v-4h2v4z\"/>\n",
              "    </g>\n",
              "</svg>\n",
              "  </button>\n",
              "\n",
              "<style>\n",
              "  .colab-df-quickchart {\n",
              "      --bg-color: #E8F0FE;\n",
              "      --fill-color: #1967D2;\n",
              "      --hover-bg-color: #E2EBFA;\n",
              "      --hover-fill-color: #174EA6;\n",
              "      --disabled-fill-color: #AAA;\n",
              "      --disabled-bg-color: #DDD;\n",
              "  }\n",
              "\n",
              "  [theme=dark] .colab-df-quickchart {\n",
              "      --bg-color: #3B4455;\n",
              "      --fill-color: #D2E3FC;\n",
              "      --hover-bg-color: #434B5C;\n",
              "      --hover-fill-color: #FFFFFF;\n",
              "      --disabled-bg-color: #3B4455;\n",
              "      --disabled-fill-color: #666;\n",
              "  }\n",
              "\n",
              "  .colab-df-quickchart {\n",
              "    background-color: var(--bg-color);\n",
              "    border: none;\n",
              "    border-radius: 50%;\n",
              "    cursor: pointer;\n",
              "    display: none;\n",
              "    fill: var(--fill-color);\n",
              "    height: 32px;\n",
              "    padding: 0;\n",
              "    width: 32px;\n",
              "  }\n",
              "\n",
              "  .colab-df-quickchart:hover {\n",
              "    background-color: var(--hover-bg-color);\n",
              "    box-shadow: 0 1px 2px rgba(60, 64, 67, 0.3), 0 1px 3px 1px rgba(60, 64, 67, 0.15);\n",
              "    fill: var(--button-hover-fill-color);\n",
              "  }\n",
              "\n",
              "  .colab-df-quickchart-complete:disabled,\n",
              "  .colab-df-quickchart-complete:disabled:hover {\n",
              "    background-color: var(--disabled-bg-color);\n",
              "    fill: var(--disabled-fill-color);\n",
              "    box-shadow: none;\n",
              "  }\n",
              "\n",
              "  .colab-df-spinner {\n",
              "    border: 2px solid var(--fill-color);\n",
              "    border-color: transparent;\n",
              "    border-bottom-color: var(--fill-color);\n",
              "    animation:\n",
              "      spin 1s steps(1) infinite;\n",
              "  }\n",
              "\n",
              "  @keyframes spin {\n",
              "    0% {\n",
              "      border-color: transparent;\n",
              "      border-bottom-color: var(--fill-color);\n",
              "      border-left-color: var(--fill-color);\n",
              "    }\n",
              "    20% {\n",
              "      border-color: transparent;\n",
              "      border-left-color: var(--fill-color);\n",
              "      border-top-color: var(--fill-color);\n",
              "    }\n",
              "    30% {\n",
              "      border-color: transparent;\n",
              "      border-left-color: var(--fill-color);\n",
              "      border-top-color: var(--fill-color);\n",
              "      border-right-color: var(--fill-color);\n",
              "    }\n",
              "    40% {\n",
              "      border-color: transparent;\n",
              "      border-right-color: var(--fill-color);\n",
              "      border-top-color: var(--fill-color);\n",
              "    }\n",
              "    60% {\n",
              "      border-color: transparent;\n",
              "      border-right-color: var(--fill-color);\n",
              "    }\n",
              "    80% {\n",
              "      border-color: transparent;\n",
              "      border-right-color: var(--fill-color);\n",
              "      border-bottom-color: var(--fill-color);\n",
              "    }\n",
              "    90% {\n",
              "      border-color: transparent;\n",
              "      border-bottom-color: var(--fill-color);\n",
              "    }\n",
              "  }\n",
              "</style>\n",
              "\n",
              "  <script>\n",
              "    async function quickchart(key) {\n",
              "      const quickchartButtonEl =\n",
              "        document.querySelector('#' + key + ' button');\n",
              "      quickchartButtonEl.disabled = true;  // To prevent multiple clicks.\n",
              "      quickchartButtonEl.classList.add('colab-df-spinner');\n",
              "      try {\n",
              "        const charts = await google.colab.kernel.invokeFunction(\n",
              "            'suggestCharts', [key], {});\n",
              "      } catch (error) {\n",
              "        console.error('Error during call to suggestCharts:', error);\n",
              "      }\n",
              "      quickchartButtonEl.classList.remove('colab-df-spinner');\n",
              "      quickchartButtonEl.classList.add('colab-df-quickchart-complete');\n",
              "    }\n",
              "    (() => {\n",
              "      let quickchartButtonEl =\n",
              "        document.querySelector('#df-61c1934c-1dcb-4c36-96f3-c7a90983ce2a button');\n",
              "      quickchartButtonEl.style.display =\n",
              "        google.colab.kernel.accessAllowed ? 'block' : 'none';\n",
              "    })();\n",
              "  </script>\n",
              "</div>\n",
              "    </div>\n",
              "  </div>\n"
            ]
          },
          "metadata": {},
          "execution_count": 234
        }
      ]
    },
    {
      "cell_type": "markdown",
      "source": [
        "# **1-Data Balancing**"
      ],
      "metadata": {
        "id": "xBvMSG4Rp4yj"
      }
    },
    {
      "cell_type": "code",
      "source": [
        "#check if data balanced or not\n",
        "#result: \"g\" is greater than \"h\" so we need resample with size of min\n",
        "g_class = df[df['class'] == 'g']\n",
        "h_class = df[df['class'] == 'h']\n",
        "\n",
        "g_count = g_class['class'].count()\n",
        "h_count = h_class['class'].count()\n",
        "print(g_count)\n",
        "print(h_count)\n"
      ],
      "metadata": {
        "id": "GEnbPylfapas",
        "colab": {
          "base_uri": "https://localhost:8080/"
        },
        "outputId": "3b5bf17d-00e9-4993-d3d0-1fa279f0a9c5"
      },
      "execution_count": 235,
      "outputs": [
        {
          "output_type": "stream",
          "name": "stdout",
          "text": [
            "12332\n",
            "6573\n"
          ]
        }
      ]
    },
    {
      "cell_type": "code",
      "source": [
        "# # Randomly sample 'g' samples to match the count of 'h' samples\n",
        "# g_class_under = g_class.sample(h_count)\n",
        "# ds = pd.concat([g_class_under, h_class], axis = 0)\n",
        "# # Save the balanced dataset to a CSV file named 'balanced magic.csv' without including an index column\n",
        "# ds.to_csv('balanced magic.csv', index = False)\n",
        "ds = pd.read_csv('balanced magic.csv')"
      ],
      "metadata": {
        "id": "eithZ3Yzkf0H"
      },
      "execution_count": 236,
      "outputs": []
    },
    {
      "cell_type": "code",
      "source": [
        "#check after resampling\n",
        "g_class = ds[ds['class'] == 'g']\n",
        "h_class = ds[ds['class'] == 'h']\n",
        "g_count = g_class['class'].count()\n",
        "h_count = h_class['class'].count()\n",
        "print(g_count)\n",
        "print(h_count)\n",
        "\n"
      ],
      "metadata": {
        "colab": {
          "base_uri": "https://localhost:8080/"
        },
        "id": "MTIsD3h2oGpE",
        "outputId": "9de0f206-ef70-408a-9f32-959a25dcea5c"
      },
      "execution_count": 237,
      "outputs": [
        {
          "output_type": "stream",
          "name": "stdout",
          "text": [
            "6573\n",
            "6573\n"
          ]
        }
      ]
    },
    {
      "cell_type": "markdown",
      "source": [
        "# **2-Split dataset**"
      ],
      "metadata": {
        "id": "e412d-z9rIcC"
      }
    },
    {
      "cell_type": "code",
      "source": [
        "x=ds.drop(columns='class')\n",
        "y=ds['class']\n"
      ],
      "metadata": {
        "id": "ZwXWFEfprtfM"
      },
      "execution_count": 238,
      "outputs": []
    },
    {
      "cell_type": "code",
      "source": [
        "# Splitting dataset into 70% training and 30% test\n",
        "X_train_temp, X_test_temp, Y_train_temp, Y_test_temp = train_test_split(x,y,train_size=0.7, random_state =42)\n",
        "# Splitting dataset into 15% test and 15% validation\n",
        "X_val, X_test, y_val, y_test = train_test_split(X_test_temp, Y_test_temp, test_size=0.5, random_state=42)"
      ],
      "metadata": {
        "id": "veUKB_kpbm0M"
      },
      "execution_count": 239,
      "outputs": []
    },
    {
      "cell_type": "markdown",
      "source": [
        "# **3-Apply K-NN Classifier**"
      ],
      "metadata": {
        "id": "5nsKa5cRsY5f"
      }
    },
    {
      "cell_type": "code",
      "source": [
        "# Initialize lists to store evaluation metrics for different k values\n",
        "k_values = [1, 3, 5, 7, 9, 11, 13, 15, 17, 19]  # List of k values to try\n",
        "best_k = None\n",
        "best_accuracy = 0\n",
        "best_precision = 0\n",
        "best_recall = 0\n",
        "best_f1 = 0\n",
        "\n",
        "accuracy_values = []\n",
        "precision_values = []\n",
        "recall_values = []\n",
        "f1_values = []\n",
        "confusion_matrices = []"
      ],
      "metadata": {
        "id": "gjShlR-LseZQ"
      },
      "execution_count": 240,
      "outputs": []
    },
    {
      "cell_type": "markdown",
      "source": [
        "# **4-Apply different k values to get the best results.**"
      ],
      "metadata": {
        "id": "3retSSczx4Kw"
      }
    },
    {
      "cell_type": "code",
      "source": [
        "# Iterate over different k values to find best one\n",
        "for k in k_values:\n",
        "    # Create a KNN classifier with the current k value\n",
        "    knn = KNeighborsClassifier(n_neighbors=k)\n",
        "\n",
        "    # Fit the classifier to the training data\n",
        "    knn.fit(X_train_temp, Y_train_temp)\n",
        "\n",
        "    # Make predictions on the test data\n",
        "    y_pred = knn.predict(X_val)\n",
        "\n",
        "    # Calculate the evaluation metrics\n",
        "    accuracy = accuracy_score(y_val, y_pred)\n",
        "    precision = precision_score(y_val, y_pred, average='weighted')\n",
        "    recall = recall_score(y_val, y_pred, average='weighted')\n",
        "    f1 = f1_score(y_val, y_pred, average='weighted')\n",
        "    confusion_matrix_result = confusion_matrix(y_val, y_pred)\n",
        "\n",
        "    # Append the metrics to the respective lists\n",
        "    accuracy_values.append(accuracy)\n",
        "    precision_values.append(precision)\n",
        "    recall_values.append(recall)\n",
        "    f1_values.append(f1)\n",
        "    confusion_matrices.append(confusion_matrix_result)\n",
        "\n",
        "    # Check if this k value gives better accuracy\n",
        "    if accuracy > best_accuracy:\n",
        "        best_accuracy = accuracy\n",
        "        best_k = k\n",
        "        best_precision = precision\n",
        "        best_recall = recall\n",
        "        best_f1 = f1\n",
        "\n",
        "print(f\"The best k value is {best_k} with the following metrics\")\n",
        "print(f\"Accuracy: {best_accuracy:.9f}\")\n",
        "print(f\"Precision: {best_precision:.9f}\")\n",
        "print(f\"Recall: {best_recall:.9f}\")\n",
        "print(f\"F1 Score: {best_f1:.9f}\")"
      ],
      "metadata": {
        "id": "2Z_3ej2bs5p-",
        "colab": {
          "base_uri": "https://localhost:8080/"
        },
        "outputId": "dee078de-a887-4862-cc39-48068f1a215f"
      },
      "execution_count": 241,
      "outputs": [
        {
          "output_type": "stream",
          "name": "stdout",
          "text": [
            "The best k value is 7 with the following metrics\n",
            "Accuracy: 0.782961460\n",
            "Precision: 0.791742044\n",
            "Recall: 0.782961460\n",
            "F1 Score: 0.781546828\n"
          ]
        }
      ]
    },
    {
      "cell_type": "markdown",
      "source": [
        "# **5-Report all of your trained model accuracy, precision, recall and f-score as well as confusion matrix.**\n"
      ],
      "metadata": {
        "id": "6GL-nZKDyAMS"
      }
    },
    {
      "cell_type": "code",
      "source": [
        "# Create a list to store the evaluation metrics\n",
        "evaluation_data = []\n",
        "\n",
        "# Iterate over 'k' values and calculate metrics\n",
        "for i, k in enumerate(k_values):\n",
        "    knn = KNeighborsClassifier(n_neighbors=k)\n",
        "    #Fit the classifier to the training data\n",
        "    knn.fit(X_train_temp, Y_train_temp)\n",
        "\n",
        "    # Make predictions on the test data\n",
        "    y_pred = knn.predict(X_val)\n",
        "\n",
        "    # Calculate the evaluation metrics\n",
        "    accuracy = accuracy_score(y_val, y_pred)\n",
        "    precision = precision_score(y_val, y_pred, average='weighted')\n",
        "    recall = recall_score(y_val, y_pred, average='weighted')\n",
        "    f1 = f1_score(y_val, y_pred, average='weighted')\n",
        "\n",
        "    # Calculate the confusion matrix\n",
        "    confusion_matrix_result = confusion_matrix(y_val, y_pred)\n",
        "\n",
        "    # Append metrics and confusion matrix to the list\n",
        "    evaluation_data.append([k, accuracy, precision, recall, f1, confusion_matrix_result])\n",
        "\n",
        "# Create a DataFrame from the evaluation data\n",
        "df = pd.DataFrame(evaluation_data, columns=[\"K Value\", \"Accuracy\", \"Precision\", \"Recall\", \"F1-Score\", \"Confusion Matrix\"])\n",
        "\n",
        "# Print the metrics table\n",
        "print(tabulate.tabulate(df, headers=\"keys\",  tablefmt=\"grid\"))\n"
      ],
      "metadata": {
        "colab": {
          "base_uri": "https://localhost:8080/"
        },
        "id": "udurak2jtAeo",
        "outputId": "aa16fdc4-fc9b-4b45-a070-f8a33e52f6a9"
      },
      "execution_count": 242,
      "outputs": [
        {
          "output_type": "stream",
          "name": "stdout",
          "text": [
            "+----+-----------+------------+-------------+----------+------------+--------------------+\n",
            "|    |   K Value |   Accuracy |   Precision |   Recall |   F1-Score | Confusion Matrix   |\n",
            "+====+===========+============+=============+==========+============+====================+\n",
            "|  0 |         1 |   0.743915 |    0.746526 | 0.743915 |   0.743409 | [[773 204]         |\n",
            "|    |           |            |             |          |            |  [301 694]]        |\n",
            "+----+-----------+------------+-------------+----------+------------+--------------------+\n",
            "|  1 |         3 |   0.768256 |    0.773985 | 0.768256 |   0.767249 | [[818 159]         |\n",
            "|    |           |            |             |          |            |  [298 697]]        |\n",
            "+----+-----------+------------+-------------+----------+------------+--------------------+\n",
            "|  2 |         5 |   0.773834 |    0.782154 | 0.773834 |   0.772397 | [[837 140]         |\n",
            "|    |           |            |             |          |            |  [306 689]]        |\n",
            "+----+-----------+------------+-------------+----------+------------+--------------------+\n",
            "|  3 |         7 |   0.782961 |    0.791742 | 0.782961 |   0.781547 | [[847 130]         |\n",
            "|    |           |            |             |          |            |  [298 697]]        |\n",
            "+----+-----------+------------+-------------+----------+------------+--------------------+\n",
            "|  4 |         9 |   0.773327 |    0.783895 | 0.773327 |   0.771471 | [[847 130]         |\n",
            "|    |           |            |             |          |            |  [317 678]]        |\n",
            "+----+-----------+------------+-------------+----------+------------+--------------------+\n",
            "|  5 |        11 |   0.774848 |    0.787791 | 0.774848 |   0.772585 | [[858 119]         |\n",
            "|    |           |            |             |          |            |  [325 670]]        |\n",
            "+----+-----------+------------+-------------+----------+------------+--------------------+\n",
            "|  6 |        13 |   0.772819 |    0.784189 | 0.772819 |   0.770809 | [[850 127]         |\n",
            "|    |           |            |             |          |            |  [321 674]]        |\n",
            "+----+-----------+------------+-------------+----------+------------+--------------------+\n",
            "|  7 |        15 |   0.766734 |    0.778585 | 0.766734 |   0.764532 | [[847 130]         |\n",
            "|    |           |            |             |          |            |  [330 665]]        |\n",
            "+----+-----------+------------+-------------+----------+------------+--------------------+\n",
            "|  8 |        17 |   0.770791 |    0.783813 | 0.770791 |   0.76844  | [[855 122]         |\n",
            "|    |           |            |             |          |            |  [330 665]]        |\n",
            "+----+-----------+------------+-------------+----------+------------+--------------------+\n",
            "|  9 |        19 |   0.76927  |    0.782873 | 0.76927  |   0.766781 | [[856 121]         |\n",
            "|    |           |            |             |          |            |  [334 661]]        |\n",
            "+----+-----------+------------+-------------+----------+------------+--------------------+\n"
          ]
        }
      ]
    },
    {
      "cell_type": "markdown",
      "source": [
        "\n",
        "### Model Comparison\n",
        "- The performance of the K-NN classifier improves as 'k' increases, indicating that considering more neighbors in the decision-making process benefits the model.\n",
        "- K-NN with 'k=7' achieves the highest accuracy and F1-Score, making it the preferred choice for this problem.\n",
        "- Precision and recall remain consistent across different 'k' values, demonstrating balanced performance.\n",
        "- The confusion matrices reveal a clear understanding of true positives (TP), false positives (FP), false negatives (FN), and true negatives (TN), which can guide further analysis and decision-making.\n",
        "\n"
      ],
      "metadata": {
        "id": "zi8FvRmFvwnL"
      }
    },
    {
      "cell_type": "code",
      "source": [
        "#after founding best k during validation now time to test\n",
        "knn = KNeighborsClassifier(n_neighbors=best_k)\n",
        "knn.fit(X_train_temp, Y_train_temp)\n",
        "\n",
        "# Make predictions on the test data\n",
        "y_pred = knn.predict(X_test)\n",
        "\n",
        "# Calculate the evaluation metrics\n",
        "accuracy1 = accuracy_score(y_test, y_pred)\n",
        "precision1 = precision_score(y_test, y_pred, average='weighted')\n",
        "recall1 = recall_score(y_test, y_pred, average='weighted')\n",
        "f11 = f1_score(y_test, y_pred, average='weighted')\n",
        "confusion_matrix_result1 = confusion_matrix(y_test, y_pred)\n",
        "\n",
        "print(f\"The best k value is {best_k} with the following metrics\")\n",
        "print(f\"Accuracy: {accuracy1:.9f}\")\n",
        "print(f\"Precision: {precision1:.9f}\")\n",
        "print(f\"Recall: {recall1:.9f}\")\n",
        "print(f\"F1 Score: {f11:.9f}\")\n",
        "print(f\"Confusion Matrix: {confusion_matrix_result1}\")\n"
      ],
      "metadata": {
        "colab": {
          "base_uri": "https://localhost:8080/"
        },
        "id": "4IHhgOwUPFBD",
        "outputId": "3d8090af-1bca-49bf-f80d-2ce48005dab4"
      },
      "execution_count": 243,
      "outputs": [
        {
          "output_type": "stream",
          "name": "stdout",
          "text": [
            "The best k value is 7 with the following metrics\n",
            "Accuracy: 0.765720081\n",
            "Precision: 0.770981128\n",
            "Recall: 0.765720081\n",
            "F1 Score: 0.763281543\n",
            "Confusion Matrix: [[881 152]\n",
            " [310 629]]\n"
          ]
        }
      ]
    }
  ]
}